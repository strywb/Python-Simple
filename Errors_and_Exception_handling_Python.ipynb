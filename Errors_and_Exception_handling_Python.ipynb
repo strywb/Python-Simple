{
 "cells": [
  {
   "cell_type": "markdown",
   "id": "a8789c94",
   "metadata": {},
   "source": [
    "# Error and Exception handling in Python"
   ]
  },
  {
   "cell_type": "markdown",
   "id": "5e048ad9",
   "metadata": {},
   "source": [
    "* Errors are issues in a programme that cause the programme to halt its execution.\n",
    "* When some internal events occur that disrupt the program's normal flow, exceptions are raised.\n",
    "* When there occures an error, Python raises an error with showing the 'Error Type' and 'Error description'.\n",
    "* `dir(__builtins__)` shows the different kinds of errors in Python\n",
    "* Importing `sys` module to get the type of exception"
   ]
  },
  {
   "cell_type": "markdown",
   "id": "cb050184",
   "metadata": {},
   "source": [
    "### Method : 01"
   ]
  },
  {
   "cell_type": "code",
   "execution_count": 1,
   "id": "44efc119",
   "metadata": {},
   "outputs": [
    {
     "name": "stdout",
     "output_type": "stream",
     "text": [
      "The entry is 2\n",
      "The reciprocal of 2 is 0.5\n",
      "\n",
      "-------------------------------------------------- \n",
      "\n",
      "The entry is b\n",
      "Oops! <class 'ValueError'> occurred\n",
      "Next Entry \n",
      "\n",
      "-------------------------------------------------- \n",
      "\n",
      "The entry is 0\n",
      "Oops! <class 'ZeroDivisionError'> occurred\n",
      "Next Entry \n",
      "\n",
      "-------------------------------------------------- \n",
      "\n",
      "The entry is 5\n",
      "The reciprocal of 5 is 0.2\n",
      "\n",
      "-------------------------------------------------- \n",
      "\n"
     ]
    }
   ],
   "source": [
    "import sys\n",
    "\n",
    "list_ = [2, 'b', 0 , 5]\n",
    "\n",
    "for item in list_:\n",
    "    try:\n",
    "        print('The entry is', item)\n",
    "        r = 1 / int(item)\n",
    "        print('The reciprocal of {} is {}\\n'. format(item,r))\n",
    "        print('-'*50, '\\n')\n",
    "\n",
    "    except:\n",
    "        print('Oops! {} occurred'.format(sys.exc_info()[0]))\n",
    "        print('Next Entry \\n')\n",
    "        print('-'*50, '\\n')\n",
    "        "
   ]
  },
  {
   "cell_type": "markdown",
   "id": "d6d15e4c",
   "metadata": {},
   "source": [
    "### Method : 02"
   ]
  },
  {
   "cell_type": "code",
   "execution_count": 2,
   "id": "08ba98b6",
   "metadata": {},
   "outputs": [
    {
     "name": "stdout",
     "output_type": "stream",
     "text": [
      "-------------------------------------------------- \n",
      "\n",
      "The entry is 2\n",
      "The reciprocal of 2 is 0.5\n",
      "\n",
      "-------------------------------------------------- \n",
      "\n",
      "The entry is b\n",
      "This is a \"Value Error\"\n",
      "\n",
      "-------------------------------------------------- \n",
      "\n",
      "The entry is 0\n",
      "This is a \"Zero Division Error\"\n",
      "\n",
      "-------------------------------------------------- \n",
      "\n",
      "The entry is 5\n",
      "The reciprocal of 5 is 0.2\n",
      "\n"
     ]
    }
   ],
   "source": [
    "import sys\n",
    "\n",
    "list_ = [2, 'b', 0 , 5]\n",
    "\n",
    "for item in list_:\n",
    "    try:\n",
    "        print('-'*50, '\\n')\n",
    "        print('The entry is', item)\n",
    "        r = 1 / int(item)\n",
    "        print('The reciprocal of {} is {}\\n'. format(item,r))\n",
    "        \n",
    "    except ValueError :\n",
    "        print('This is a \"Value Error\"\\n')\n",
    "        \n",
    "    except ZeroDivisionError :\n",
    "        print('This is a \"Zero Error\"\\n')"
   ]
  },
  {
   "cell_type": "markdown",
   "id": "bcd7d36a",
   "metadata": {},
   "source": [
    "### Method : 03 - Raising an exception manually"
   ]
  },
  {
   "cell_type": "code",
   "execution_count": 3,
   "id": "3b807255",
   "metadata": {},
   "outputs": [
    {
     "name": "stdout",
     "output_type": "stream",
     "text": [
      "-------------------------------------------------- \n",
      "\n",
      "The entry is 2\n",
      "The reciprocal of 2 is 0.5\n",
      "\n",
      "-------------------------------------------------- \n",
      "\n",
      "The entry is b\n",
      "invalid literal for int() with base 10: 'b'\n",
      "-------------------------------------------------- \n",
      "\n",
      "The entry is 0\n",
      "division by zero\n",
      "-------------------------------------------------- \n",
      "\n",
      "The entry is 5\n",
      "The reciprocal of 5 is 0.2\n",
      "\n"
     ]
    }
   ],
   "source": [
    "list_ = [2, 'b', 0 , 5]\n",
    "\n",
    "for item in list_:\n",
    "    try:\n",
    "        print('-'*50, '\\n')\n",
    "        print('The entry is', item)\n",
    "        r = 1 / int(item)\n",
    "        print('The reciprocal of {} is {}\\n'. format(item,r))\n",
    "        \n",
    "    except Exception as error:\n",
    "        \n",
    "        print(error)"
   ]
  },
  {
   "cell_type": "markdown",
   "id": "c0d79674",
   "metadata": {},
   "source": [
    "### Method : 04 - Try.... Finally\n",
    "\n",
    "* The `finally` is optional for `try` statement.\n",
    "* This `finally` will always execute.\n",
    "* Generally used to release external resource."
   ]
  },
  {
   "cell_type": "code",
   "execution_count": 4,
   "id": "716edb53",
   "metadata": {},
   "outputs": [],
   "source": [
    "try:\n",
    "    file = open('sample.txt', 'w')\n",
    "    \n",
    "finally:\n",
    "    file.close()"
   ]
  }
 ],
 "metadata": {
  "kernelspec": {
   "display_name": "Python 3",
   "language": "python",
   "name": "python3"
  },
  "language_info": {
   "codemirror_mode": {
    "name": "ipython",
    "version": 3
   },
   "file_extension": ".py",
   "mimetype": "text/x-python",
   "name": "python",
   "nbconvert_exporter": "python",
   "pygments_lexer": "ipython3",
   "version": "3.8.8"
  }
 },
 "nbformat": 4,
 "nbformat_minor": 5
}
